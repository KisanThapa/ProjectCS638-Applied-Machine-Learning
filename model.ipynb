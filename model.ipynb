{
 "cells": [
  {
   "cell_type": "markdown",
   "metadata": {},
   "source": [
    "### 1. For PTEN\n"
   ]
  },
  {
   "cell_type": "markdown",
   "metadata": {},
   "source": [
    "#### Import all the necessary packages\n"
   ]
  },
  {
   "cell_type": "code",
   "execution_count": 625,
   "metadata": {},
   "outputs": [],
   "source": [
    "import pandas as pd\n",
    "import numpy as np\n",
    "import seaborn as sns\n",
    "import matplotlib.pyplot as plt\n",
    "from sklearn.linear_model import LogisticRegression\n",
    "from sklearn.ensemble import RandomForestClassifier\n",
    "from sklearn import svm\n",
    "from sklearn import metrics\n",
    "from sklearn.neural_network import MLPClassifier\n",
    "from sklearn.metrics import confusion_matrix, classification_report\n",
    "from sklearn.preprocessing import StandardScaler, LabelEncoder\n",
    "from sklearn.model_selection import train_test_split\n",
    "from sklearn.model_selection import learning_curve\n",
    "from sklearn.model_selection import GridSearchCV\n",
    "from sklearn.metrics import accuracy_score\n",
    "\n",
    "from sklearn.metrics import plot_precision_recall_curve\n",
    "from sklearn.metrics import plot_roc_curve\n",
    "\n",
    "%matplotlib inline\n",
    "\n",
    "import warnings\n",
    "# filter warnings\n",
    "warnings.filterwarnings('ignore')\n"
   ]
  },
  {
   "cell_type": "code",
   "execution_count": 626,
   "metadata": {},
   "outputs": [
    {
     "data": {
      "text/html": [
       "<div>\n",
       "<style scoped>\n",
       "    .dataframe tbody tr th:only-of-type {\n",
       "        vertical-align: middle;\n",
       "    }\n",
       "\n",
       "    .dataframe tbody tr th {\n",
       "        vertical-align: top;\n",
       "    }\n",
       "\n",
       "    .dataframe thead th {\n",
       "        text-align: right;\n",
       "    }\n",
       "</style>\n",
       "<table border=\"1\" class=\"dataframe\">\n",
       "  <thead>\n",
       "    <tr style=\"text-align: right;\">\n",
       "      <th></th>\n",
       "      <th>AKT1|207</th>\n",
       "      <th>BAD|572</th>\n",
       "      <th>BECN1|8678</th>\n",
       "      <th>CA9|768</th>\n",
       "      <th>CCND1|595</th>\n",
       "      <th>CDKN1B|1027</th>\n",
       "      <th>FTH1|2495</th>\n",
       "      <th>HIF1A|3091</th>\n",
       "      <th>IL6|3569</th>\n",
       "      <th>KLK3|354</th>\n",
       "      <th>MAP1LC3B|81631</th>\n",
       "      <th>MT2A|4502</th>\n",
       "      <th>MTOR|2475</th>\n",
       "      <th>PTGS2|5743</th>\n",
       "      <th>SLC2A1|6513</th>\n",
       "      <th>SLC30A1|7779</th>\n",
       "      <th>VEGFA|7422</th>\n",
       "    </tr>\n",
       "  </thead>\n",
       "  <tbody>\n",
       "    <tr>\n",
       "      <th>0</th>\n",
       "      <td>11.671783</td>\n",
       "      <td>10.331095</td>\n",
       "      <td>10.330399</td>\n",
       "      <td>8.786293</td>\n",
       "      <td>11.123063</td>\n",
       "      <td>10.840378</td>\n",
       "      <td>15.024419</td>\n",
       "      <td>12.438820</td>\n",
       "      <td>3.467749</td>\n",
       "      <td>0.000000</td>\n",
       "      <td>11.760332</td>\n",
       "      <td>12.561393</td>\n",
       "      <td>10.611280</td>\n",
       "      <td>6.797676</td>\n",
       "      <td>11.905623</td>\n",
       "      <td>8.659774</td>\n",
       "      <td>12.723702</td>\n",
       "    </tr>\n",
       "    <tr>\n",
       "      <th>1</th>\n",
       "      <td>11.361381</td>\n",
       "      <td>10.131210</td>\n",
       "      <td>10.266701</td>\n",
       "      <td>11.680693</td>\n",
       "      <td>10.709868</td>\n",
       "      <td>9.026173</td>\n",
       "      <td>16.389493</td>\n",
       "      <td>13.119283</td>\n",
       "      <td>11.171136</td>\n",
       "      <td>0.000000</td>\n",
       "      <td>12.123821</td>\n",
       "      <td>15.306795</td>\n",
       "      <td>10.072728</td>\n",
       "      <td>10.378798</td>\n",
       "      <td>12.638665</td>\n",
       "      <td>8.692564</td>\n",
       "      <td>13.159528</td>\n",
       "    </tr>\n",
       "    <tr>\n",
       "      <th>2</th>\n",
       "      <td>12.262058</td>\n",
       "      <td>10.344795</td>\n",
       "      <td>10.195539</td>\n",
       "      <td>8.973686</td>\n",
       "      <td>11.079129</td>\n",
       "      <td>11.572258</td>\n",
       "      <td>15.032451</td>\n",
       "      <td>12.340602</td>\n",
       "      <td>6.207085</td>\n",
       "      <td>-0.244172</td>\n",
       "      <td>11.957079</td>\n",
       "      <td>11.650502</td>\n",
       "      <td>10.048771</td>\n",
       "      <td>7.186326</td>\n",
       "      <td>11.345759</td>\n",
       "      <td>7.359500</td>\n",
       "      <td>11.828677</td>\n",
       "    </tr>\n",
       "    <tr>\n",
       "      <th>3</th>\n",
       "      <td>11.995195</td>\n",
       "      <td>10.219912</td>\n",
       "      <td>10.333986</td>\n",
       "      <td>5.625884</td>\n",
       "      <td>11.137253</td>\n",
       "      <td>11.410401</td>\n",
       "      <td>14.232891</td>\n",
       "      <td>13.120130</td>\n",
       "      <td>6.027643</td>\n",
       "      <td>0.000000</td>\n",
       "      <td>11.471675</td>\n",
       "      <td>12.230678</td>\n",
       "      <td>10.717105</td>\n",
       "      <td>6.842500</td>\n",
       "      <td>11.735757</td>\n",
       "      <td>7.664320</td>\n",
       "      <td>11.604906</td>\n",
       "    </tr>\n",
       "    <tr>\n",
       "      <th>4</th>\n",
       "      <td>11.774395</td>\n",
       "      <td>11.011662</td>\n",
       "      <td>10.600298</td>\n",
       "      <td>10.208368</td>\n",
       "      <td>11.100662</td>\n",
       "      <td>10.846159</td>\n",
       "      <td>16.334449</td>\n",
       "      <td>12.128655</td>\n",
       "      <td>7.144285</td>\n",
       "      <td>0.000000</td>\n",
       "      <td>11.626989</td>\n",
       "      <td>13.323079</td>\n",
       "      <td>9.705211</td>\n",
       "      <td>7.297532</td>\n",
       "      <td>11.567655</td>\n",
       "      <td>8.639451</td>\n",
       "      <td>13.999798</td>\n",
       "    </tr>\n",
       "    <tr>\n",
       "      <th>...</th>\n",
       "      <td>...</td>\n",
       "      <td>...</td>\n",
       "      <td>...</td>\n",
       "      <td>...</td>\n",
       "      <td>...</td>\n",
       "      <td>...</td>\n",
       "      <td>...</td>\n",
       "      <td>...</td>\n",
       "      <td>...</td>\n",
       "      <td>...</td>\n",
       "      <td>...</td>\n",
       "      <td>...</td>\n",
       "      <td>...</td>\n",
       "      <td>...</td>\n",
       "      <td>...</td>\n",
       "      <td>...</td>\n",
       "      <td>...</td>\n",
       "    </tr>\n",
       "    <tr>\n",
       "      <th>136</th>\n",
       "      <td>12.001832</td>\n",
       "      <td>10.449952</td>\n",
       "      <td>10.350913</td>\n",
       "      <td>7.023437</td>\n",
       "      <td>10.750616</td>\n",
       "      <td>10.626369</td>\n",
       "      <td>14.830816</td>\n",
       "      <td>11.978475</td>\n",
       "      <td>6.093245</td>\n",
       "      <td>0.000000</td>\n",
       "      <td>11.688075</td>\n",
       "      <td>12.098653</td>\n",
       "      <td>10.413475</td>\n",
       "      <td>5.969256</td>\n",
       "      <td>11.221073</td>\n",
       "      <td>7.700662</td>\n",
       "      <td>12.583022</td>\n",
       "    </tr>\n",
       "    <tr>\n",
       "      <th>137</th>\n",
       "      <td>11.891185</td>\n",
       "      <td>10.296958</td>\n",
       "      <td>10.565382</td>\n",
       "      <td>8.936019</td>\n",
       "      <td>9.494196</td>\n",
       "      <td>10.247973</td>\n",
       "      <td>14.773544</td>\n",
       "      <td>12.318858</td>\n",
       "      <td>5.642592</td>\n",
       "      <td>0.000000</td>\n",
       "      <td>11.652444</td>\n",
       "      <td>15.672665</td>\n",
       "      <td>10.246413</td>\n",
       "      <td>6.667682</td>\n",
       "      <td>12.738220</td>\n",
       "      <td>6.716592</td>\n",
       "      <td>12.943887</td>\n",
       "    </tr>\n",
       "    <tr>\n",
       "      <th>138</th>\n",
       "      <td>11.200209</td>\n",
       "      <td>10.683629</td>\n",
       "      <td>10.477150</td>\n",
       "      <td>8.178603</td>\n",
       "      <td>10.765598</td>\n",
       "      <td>11.322884</td>\n",
       "      <td>14.255659</td>\n",
       "      <td>10.943869</td>\n",
       "      <td>2.859671</td>\n",
       "      <td>0.000000</td>\n",
       "      <td>11.886304</td>\n",
       "      <td>12.760193</td>\n",
       "      <td>10.710462</td>\n",
       "      <td>5.817447</td>\n",
       "      <td>11.623525</td>\n",
       "      <td>8.041878</td>\n",
       "      <td>13.264488</td>\n",
       "    </tr>\n",
       "    <tr>\n",
       "      <th>139</th>\n",
       "      <td>12.258220</td>\n",
       "      <td>10.581927</td>\n",
       "      <td>10.184426</td>\n",
       "      <td>8.162077</td>\n",
       "      <td>11.163443</td>\n",
       "      <td>10.560895</td>\n",
       "      <td>14.469103</td>\n",
       "      <td>12.152434</td>\n",
       "      <td>2.819423</td>\n",
       "      <td>0.000000</td>\n",
       "      <td>11.358587</td>\n",
       "      <td>12.772848</td>\n",
       "      <td>10.804321</td>\n",
       "      <td>7.920966</td>\n",
       "      <td>11.505461</td>\n",
       "      <td>7.729521</td>\n",
       "      <td>13.638809</td>\n",
       "    </tr>\n",
       "    <tr>\n",
       "      <th>140</th>\n",
       "      <td>12.282247</td>\n",
       "      <td>10.411068</td>\n",
       "      <td>10.527647</td>\n",
       "      <td>8.416067</td>\n",
       "      <td>10.256661</td>\n",
       "      <td>10.951357</td>\n",
       "      <td>14.985588</td>\n",
       "      <td>12.397148</td>\n",
       "      <td>3.314726</td>\n",
       "      <td>0.000000</td>\n",
       "      <td>11.791884</td>\n",
       "      <td>14.515907</td>\n",
       "      <td>10.610731</td>\n",
       "      <td>6.665229</td>\n",
       "      <td>12.985654</td>\n",
       "      <td>7.803376</td>\n",
       "      <td>14.297156</td>\n",
       "    </tr>\n",
       "  </tbody>\n",
       "</table>\n",
       "<p>141 rows × 17 columns</p>\n",
       "</div>"
      ],
      "text/plain": [
       "      AKT1|207    BAD|572  BECN1|8678    CA9|768  CCND1|595  CDKN1B|1027  \\\n",
       "0    11.671783  10.331095   10.330399   8.786293  11.123063    10.840378   \n",
       "1    11.361381  10.131210   10.266701  11.680693  10.709868     9.026173   \n",
       "2    12.262058  10.344795   10.195539   8.973686  11.079129    11.572258   \n",
       "3    11.995195  10.219912   10.333986   5.625884  11.137253    11.410401   \n",
       "4    11.774395  11.011662   10.600298  10.208368  11.100662    10.846159   \n",
       "..         ...        ...         ...        ...        ...          ...   \n",
       "136  12.001832  10.449952   10.350913   7.023437  10.750616    10.626369   \n",
       "137  11.891185  10.296958   10.565382   8.936019   9.494196    10.247973   \n",
       "138  11.200209  10.683629   10.477150   8.178603  10.765598    11.322884   \n",
       "139  12.258220  10.581927   10.184426   8.162077  11.163443    10.560895   \n",
       "140  12.282247  10.411068   10.527647   8.416067  10.256661    10.951357   \n",
       "\n",
       "     FTH1|2495  HIF1A|3091   IL6|3569  KLK3|354  MAP1LC3B|81631  MT2A|4502  \\\n",
       "0    15.024419   12.438820   3.467749  0.000000       11.760332  12.561393   \n",
       "1    16.389493   13.119283  11.171136  0.000000       12.123821  15.306795   \n",
       "2    15.032451   12.340602   6.207085 -0.244172       11.957079  11.650502   \n",
       "3    14.232891   13.120130   6.027643  0.000000       11.471675  12.230678   \n",
       "4    16.334449   12.128655   7.144285  0.000000       11.626989  13.323079   \n",
       "..         ...         ...        ...       ...             ...        ...   \n",
       "136  14.830816   11.978475   6.093245  0.000000       11.688075  12.098653   \n",
       "137  14.773544   12.318858   5.642592  0.000000       11.652444  15.672665   \n",
       "138  14.255659   10.943869   2.859671  0.000000       11.886304  12.760193   \n",
       "139  14.469103   12.152434   2.819423  0.000000       11.358587  12.772848   \n",
       "140  14.985588   12.397148   3.314726  0.000000       11.791884  14.515907   \n",
       "\n",
       "     MTOR|2475  PTGS2|5743  SLC2A1|6513  SLC30A1|7779  VEGFA|7422  \n",
       "0    10.611280    6.797676    11.905623      8.659774   12.723702  \n",
       "1    10.072728   10.378798    12.638665      8.692564   13.159528  \n",
       "2    10.048771    7.186326    11.345759      7.359500   11.828677  \n",
       "3    10.717105    6.842500    11.735757      7.664320   11.604906  \n",
       "4     9.705211    7.297532    11.567655      8.639451   13.999798  \n",
       "..         ...         ...          ...           ...         ...  \n",
       "136  10.413475    5.969256    11.221073      7.700662   12.583022  \n",
       "137  10.246413    6.667682    12.738220      6.716592   12.943887  \n",
       "138  10.710462    5.817447    11.623525      8.041878   13.264488  \n",
       "139  10.804321    7.920966    11.505461      7.729521   13.638809  \n",
       "140  10.610731    6.665229    12.985654      7.803376   14.297156  \n",
       "\n",
       "[141 rows x 17 columns]"
      ]
     },
     "execution_count": 626,
     "metadata": {},
     "output_type": "execute_result"
    }
   ],
   "source": [
    "X = pd.read_csv('trainReadyData/PTENX.csv')\n",
    "X\n"
   ]
  },
  {
   "cell_type": "code",
   "execution_count": 627,
   "metadata": {},
   "outputs": [
    {
     "data": {
      "text/plain": [
       "AKT1|207          0\n",
       "BAD|572           0\n",
       "BECN1|8678        0\n",
       "CA9|768           0\n",
       "CCND1|595         0\n",
       "CDKN1B|1027       0\n",
       "FTH1|2495         0\n",
       "HIF1A|3091        0\n",
       "IL6|3569          0\n",
       "KLK3|354          0\n",
       "MAP1LC3B|81631    0\n",
       "MT2A|4502         0\n",
       "MTOR|2475         0\n",
       "PTGS2|5743        0\n",
       "SLC2A1|6513       0\n",
       "SLC30A1|7779      0\n",
       "VEGFA|7422        0\n",
       "dtype: int64"
      ]
     },
     "execution_count": 627,
     "metadata": {},
     "output_type": "execute_result"
    }
   ],
   "source": [
    "# Check if there is any missing values\n",
    "X.isnull().sum()\n"
   ]
  },
  {
   "cell_type": "code",
   "execution_count": 628,
   "metadata": {},
   "outputs": [
    {
     "data": {
      "text/html": [
       "<div>\n",
       "<style scoped>\n",
       "    .dataframe tbody tr th:only-of-type {\n",
       "        vertical-align: middle;\n",
       "    }\n",
       "\n",
       "    .dataframe tbody tr th {\n",
       "        vertical-align: top;\n",
       "    }\n",
       "\n",
       "    .dataframe thead th {\n",
       "        text-align: right;\n",
       "    }\n",
       "</style>\n",
       "<table border=\"1\" class=\"dataframe\">\n",
       "  <thead>\n",
       "    <tr style=\"text-align: right;\">\n",
       "      <th></th>\n",
       "      <th>Class</th>\n",
       "    </tr>\n",
       "  </thead>\n",
       "  <tbody>\n",
       "    <tr>\n",
       "      <th>0</th>\n",
       "      <td>0</td>\n",
       "    </tr>\n",
       "    <tr>\n",
       "      <th>1</th>\n",
       "      <td>1</td>\n",
       "    </tr>\n",
       "    <tr>\n",
       "      <th>2</th>\n",
       "      <td>0</td>\n",
       "    </tr>\n",
       "    <tr>\n",
       "      <th>3</th>\n",
       "      <td>0</td>\n",
       "    </tr>\n",
       "    <tr>\n",
       "      <th>4</th>\n",
       "      <td>0</td>\n",
       "    </tr>\n",
       "    <tr>\n",
       "      <th>...</th>\n",
       "      <td>...</td>\n",
       "    </tr>\n",
       "    <tr>\n",
       "      <th>136</th>\n",
       "      <td>1</td>\n",
       "    </tr>\n",
       "    <tr>\n",
       "      <th>137</th>\n",
       "      <td>0</td>\n",
       "    </tr>\n",
       "    <tr>\n",
       "      <th>138</th>\n",
       "      <td>0</td>\n",
       "    </tr>\n",
       "    <tr>\n",
       "      <th>139</th>\n",
       "      <td>1</td>\n",
       "    </tr>\n",
       "    <tr>\n",
       "      <th>140</th>\n",
       "      <td>0</td>\n",
       "    </tr>\n",
       "  </tbody>\n",
       "</table>\n",
       "<p>141 rows × 1 columns</p>\n",
       "</div>"
      ],
      "text/plain": [
       "     Class\n",
       "0        0\n",
       "1        1\n",
       "2        0\n",
       "3        0\n",
       "4        0\n",
       "..     ...\n",
       "136      1\n",
       "137      0\n",
       "138      0\n",
       "139      1\n",
       "140      0\n",
       "\n",
       "[141 rows x 1 columns]"
      ]
     },
     "execution_count": 628,
     "metadata": {},
     "output_type": "execute_result"
    }
   ],
   "source": [
    "y = pd.read_csv('trainReadyData/PTENy.csv')\n",
    "y\n"
   ]
  },
  {
   "cell_type": "code",
   "execution_count": 629,
   "metadata": {},
   "outputs": [
    {
     "data": {
      "text/plain": [
       "Class\n",
       "0        97\n",
       "1        44\n",
       "dtype: int64"
      ]
     },
     "execution_count": 629,
     "metadata": {},
     "output_type": "execute_result"
    }
   ],
   "source": [
    "y.value_counts()\n"
   ]
  },
  {
   "cell_type": "code",
   "execution_count": 630,
   "metadata": {},
   "outputs": [
    {
     "data": {
      "text/plain": [
       "<AxesSubplot:xlabel='Class', ylabel='count'>"
      ]
     },
     "execution_count": 630,
     "metadata": {},
     "output_type": "execute_result"
    },
    {
     "data": {
      "image/png": "[encoded data removed]",
      "text/plain": [
       "<Figure size 432x288 with 1 Axes>"
      ]
     },
     "metadata": {
      "needs_background": "light"
     },
     "output_type": "display_data"
    }
   ],
   "source": [
    "sns.countplot(y['Class'])\n"
   ]
  },
  {
   "cell_type": "markdown",
   "metadata": {},
   "source": [
    "##### Creating three set of datas 1. Training Set 2. Validataion Set and 3. Testing Set"
   ]
  },
  {
   "cell_type": "code",
   "execution_count": 631,
   "metadata": {},
   "outputs": [],
   "source": [
    "# Splitting Datasets\n",
    "X_train, X_test, y_train, y_test = train_test_split(X, y, train_size=0.87, random_state=1)\n",
    "X_train, X_valid, y_train, y_valid = train_test_split(X_train, y_train, train_size=0.9, random_state=1)\n"
   ]
  },
  {
   "cell_type": "code",
   "execution_count": 632,
   "metadata": {},
   "outputs": [
    {
     "name": "stdout",
     "output_type": "stream",
     "text": [
      "X Training Set     (109, 17)\n",
      "X Testing Set      (19, 17)\n",
      "X Validation Set   (13, 17)\n",
      "y Training Set     (109, 1)\n",
      "y Testing Set      (19, 1)\n",
      "y Validation Set   (13, 1)\n"
     ]
    }
   ],
   "source": [
    "print(\"X Training Set     \" + str(X_train.shape))\n",
    "print(\"X Testing Set      \" + str(X_test.shape))\n",
    "print(\"X Validation Set   \" + str(X_valid.shape))\n",
    "print(\"y Training Set     \" + str(y_train.shape))\n",
    "print(\"y Testing Set      \" + str(y_test.shape))\n",
    "print(\"y Validation Set   \" + str(y_valid.shape))"
   ]
  },
  {
   "cell_type": "code",
   "execution_count": 633,
   "metadata": {},
   "outputs": [],
   "source": [
    "# Applying standard scaling to get optimized result\n",
    "sc = StandardScaler()\n",
    "X_train = sc.fit_transform(X_train)\n",
    "X_test = sc.transform(X_test)\n",
    "X_valid = sc.transform(X_valid)"
   ]
  },
  {
   "cell_type": "markdown",
   "metadata": {},
   "source": [
    "# 1. Logistic Regression\n"
   ]
  },
  {
   "cell_type": "code",
   "execution_count": 634,
   "metadata": {},
   "outputs": [],
   "source": [
    "logReg = LogisticRegression()"
   ]
  },
  {
   "cell_type": "code",
   "execution_count": 635,
   "metadata": {},
   "outputs": [],
   "source": [
    "logReg.fit(X_train, y_train)\n",
    "y_pred = logReg.predict(X_test)"
   ]
  },
  {
   "cell_type": "code",
   "execution_count": 636,
   "metadata": {},
   "outputs": [
    {
     "name": "stdout",
     "output_type": "stream",
     "text": [
      "              precision    recall  f1-score   support\n",
      "\n",
      "           0       0.73      0.79      0.76        14\n",
      "           1       0.25      0.20      0.22         5\n",
      "\n",
      "    accuracy                           0.63        19\n",
      "   macro avg       0.49      0.49      0.49        19\n",
      "weighted avg       0.61      0.63      0.62        19\n",
      "\n",
      "[[11  3]\n",
      " [ 4  1]]\n",
      "0.631578947368421\n"
     ]
    }
   ],
   "source": [
    "# Lets see how well our model performs\n",
    "print(classification_report(y_test, y_pred))\n",
    "print(confusion_matrix(y_test, y_pred))\n",
    "# Print Accuracy\n",
    "print(accuracy_score(y_test, y_pred))\n"
   ]
  },
  {
   "cell_type": "markdown",
   "metadata": {},
   "source": [
    "### ROC Curve\n"
   ]
  },
  {
   "cell_type": "code",
   "execution_count": 700,
   "metadata": {},
   "outputs": [
    {
     "data": {
      "text/plain": [
       "<sklearn.metrics._plot.roc_curve.RocCurveDisplay at 0x7fae19164f70>"
      ]
     },
     "execution_count": 700,
     "metadata": {},
     "output_type": "execute_result"
    },
    {
     "data": {
      "image/png": "[encoded data removed]",
      "text/plain": [
       "<Figure size 432x288 with 1 Axes>"
      ]
     },
     "metadata": {
      "needs_background": "light"
     },
     "output_type": "display_data"
    }
   ],
   "source": [
    "plot_roc_curve(logReg, X_valid, y_valid)\n"
   ]
  },
  {
   "cell_type": "code",
   "execution_count": 638,
   "metadata": {},
   "outputs": [
    {
     "data": {
      "text/plain": [
       "<sklearn.metrics._plot.precision_recall_curve.PrecisionRecallDisplay at 0x7fadf8266580>"
      ]
     },
     "execution_count": 638,
     "metadata": {},
     "output_type": "execute_result"
    },
    {
     "data": {
      "image/png": "[encoded data removed]",
      "text/plain": [
       "<Figure size 432x288 with 1 Axes>"
      ]
     },
     "metadata": {
      "needs_background": "light"
     },
     "output_type": "display_data"
    }
   ],
   "source": [
    "plot_precision_recall_curve(logReg, X_valid, y_valid)"
   ]
  },
  {
   "cell_type": "markdown",
   "metadata": {},
   "source": [
    "### Confustion Matrix"
   ]
  },
  {
   "cell_type": "code",
   "execution_count": 639,
   "metadata": {},
   "outputs": [
    {
     "name": "stdout",
     "output_type": "stream",
     "text": [
      "<sklearn.metrics._plot.confusion_matrix.ConfusionMatrixDisplay object at 0x7fae00132310>\n"
     ]
    },
    {
     "data": {
      "image/png": "[encoded data removed]",
      "text/plain": [
       "<Figure size 432x288 with 2 Axes>"
      ]
     },
     "metadata": {
      "needs_background": "light"
     },
     "output_type": "display_data"
    }
   ],
   "source": [
    "conf_mat = metrics.plot_confusion_matrix(logReg, X_test, y_test, cmap='GnBu')\n",
    "print(conf_mat)"
   ]
  },
  {
   "cell_type": "markdown",
   "metadata": {},
   "source": [
    "### Learning Curve\n"
   ]
  },
  {
   "cell_type": "code",
   "execution_count": 702,
   "metadata": {},
   "outputs": [],
   "source": [
    "train_sizes, train_scores, validation_scores = learning_curve(\n",
    "    logReg, X_train, y_train, train_sizes=np.logspace(-1, 0, 20))"
   ]
  },
  {
   "cell_type": "code",
   "execution_count": 703,
   "metadata": {},
   "outputs": [
    {
     "data": {
      "image/png": "[encoded data removed]",
      "text/plain": [
       "<Figure size 432x288 with 1 Axes>"
      ]
     },
     "metadata": {
      "needs_background": "light"
     },
     "output_type": "display_data"
    }
   ],
   "source": [
    "plt.plot(train_sizes, validation_scores.mean(axis=1), label='validation') \n",
    "plt.plot(train_sizes, train_scores.mean(axis=1), label='training')\n",
    "\n",
    "plt.title(\"Learning Curve (training sample with model score)\")\n",
    "plt.xlabel('training size')\n",
    "plt.ylabel('score')\n",
    "plt.legend()\n",
    "plt.show()"
   ]
  },
  {
   "cell_type": "markdown",
   "metadata": {},
   "source": [
    "### Tuning Parameters"
   ]
  },
  {
   "cell_type": "code",
   "execution_count": 642,
   "metadata": {},
   "outputs": [
    {
     "data": {
      "image/png": "[encoded data removed]",
      "text/plain": [
       "<Figure size 432x288 with 1 Axes>"
      ]
     },
     "metadata": {
      "needs_background": "light"
     },
     "output_type": "display_data"
    }
   ],
   "source": [
    "C_param_range = [1e-4, 1e-3, 1e-2, 1e-1, 1, 10, 100, 1000]\n",
    "\n",
    "train = []\n",
    "validation = []\n",
    "test = []\n",
    "\n",
    "for i in C_param_range:\n",
    "    # Apply logistic regression model to training data\n",
    "    lr = LogisticRegression(C = i, random_state = 1)\n",
    "    lr.fit(X_train,y_train)\n",
    "    \n",
    "    # Predict using model\n",
    "    y_pred_train = lr.predict(X_train)\n",
    "    y_pred_valid = lr.predict(X_valid)\n",
    "    y_pred_test = lr.predict(X_test)\n",
    "    \n",
    "    # Saving accuracy score in table\n",
    "    train.append(accuracy_score(y_train, y_pred_train))\n",
    "    validation.append(accuracy_score(y_valid, y_pred_valid))\n",
    "    test.append(accuracy_score(y_test, y_pred_test))\n",
    "\n",
    "\n",
    "fig, ax = plt.subplots()\n",
    "fig.canvas.draw()\n",
    "plt.title(\"Lambda tuning with Accuracy of the model\")\n",
    "plt.xlabel(\"Lambda\")\n",
    "plt.ylabel(\"Accuracy of the Model\")\n",
    "plt.xlim(0,8)\n",
    "plt.plot(np.array(train), color='blue', label='Training')\n",
    "plt.plot(np.array(validation), color='green', label='Validation')\n",
    "# plt.plot(np.array(test), color='red', label='Test')\n",
    "\n",
    "plt.legend()\n",
    "ax.set_xticklabels(['10000', '1000', '100', '10', '1', '0.1', '0.01', '0.001'])\n",
    "plt.show()"
   ]
  },
  {
   "cell_type": "code",
   "execution_count": 643,
   "metadata": {},
   "outputs": [
    {
     "name": "stdout",
     "output_type": "stream",
     "text": [
      "Fitting 10 folds for each of 96 candidates, totalling 960 fits\n"
     ]
    }
   ],
   "source": [
    "grid={\"C\":[1e-4, 1e-3, 1e-2, 1e-1, 1, 10, 100, 1000], \"penalty\":['none', 'l1', 'l2', 'elasticnet'], 'solver':['newton-cg', 'lbfgs', 'liblinear']}\n",
    "\n",
    "clf = GridSearchCV(logReg, param_grid=grid, cv=10, scoring='accuracy', verbose=True, n_jobs=-1)\n",
    "\n",
    "best_clf = clf.fit(X_train, y_train)"
   ]
  },
  {
   "cell_type": "code",
   "execution_count": 644,
   "metadata": {},
   "outputs": [
    {
     "name": "stdout",
     "output_type": "stream",
     "text": [
      "tuned hpyerparameters :(best parameters)  {'C': 0.0001, 'penalty': 'l1', 'solver': 'liblinear'}\n",
      "accuracy : 0.6972727272727274\n"
     ]
    }
   ],
   "source": [
    "print(\"tuned hpyerparameters :(best parameters) \",best_clf.best_params_)\n",
    "print(\"accuracy :\", best_clf.best_score_)"
   ]
  },
  {
   "cell_type": "markdown",
   "metadata": {},
   "source": [
    "# 2. SVM Classifier\n"
   ]
  },
  {
   "cell_type": "code",
   "execution_count": 645,
   "metadata": {},
   "outputs": [],
   "source": [
    "clf = svm.SVC()\n",
    "\n",
    "clf.fit(X_train, y_train)\n",
    "pred_clf = clf.predict(X_test)\n"
   ]
  },
  {
   "cell_type": "code",
   "execution_count": 646,
   "metadata": {},
   "outputs": [
    {
     "name": "stdout",
     "output_type": "stream",
     "text": [
      "              precision    recall  f1-score   support\n",
      "\n",
      "           0       0.74      1.00      0.85        14\n",
      "           1       0.00      0.00      0.00         5\n",
      "\n",
      "    accuracy                           0.74        19\n",
      "   macro avg       0.37      0.50      0.42        19\n",
      "weighted avg       0.54      0.74      0.63        19\n",
      "\n",
      "[[14  0]\n",
      " [ 5  0]]\n"
     ]
    }
   ],
   "source": [
    "# Lets see how well our model performs\n",
    "print(classification_report(y_test, pred_clf))\n",
    "print(confusion_matrix(y_test, pred_clf))\n"
   ]
  },
  {
   "cell_type": "markdown",
   "metadata": {},
   "source": [
    "### Confusion Matrix"
   ]
  },
  {
   "cell_type": "code",
   "execution_count": 647,
   "metadata": {},
   "outputs": [
    {
     "name": "stdout",
     "output_type": "stream",
     "text": [
      "<sklearn.metrics._plot.confusion_matrix.ConfusionMatrixDisplay object at 0x7fae18b049a0>\n"
     ]
    },
    {
     "data": {
      "image/png": "[encoded data removed]",
      "text/plain": [
       "<Figure size 432x288 with 2 Axes>"
      ]
     },
     "metadata": {
      "needs_background": "light"
     },
     "output_type": "display_data"
    }
   ],
   "source": [
    "conf_mat = metrics.plot_confusion_matrix(clf, X_test, y_test, cmap='GnBu')\n",
    "print(conf_mat)"
   ]
  },
  {
   "cell_type": "markdown",
   "metadata": {},
   "source": [
    "### ROC Curve"
   ]
  },
  {
   "cell_type": "code",
   "execution_count": 648,
   "metadata": {},
   "outputs": [
    {
     "data": {
      "text/plain": [
       "<sklearn.metrics._plot.roc_curve.RocCurveDisplay at 0x7fae5aa558b0>"
      ]
     },
     "execution_count": 648,
     "metadata": {},
     "output_type": "execute_result"
    },
    {
     "data": {
      "image/png": "[encoded data removed]",
      "text/plain": [
       "<Figure size 432x288 with 1 Axes>"
      ]
     },
     "metadata": {
      "needs_background": "light"
     },
     "output_type": "display_data"
    }
   ],
   "source": [
    "plot_roc_curve(clf, X_valid, y_valid)"
   ]
  },
  {
   "cell_type": "code",
   "execution_count": 649,
   "metadata": {},
   "outputs": [
    {
     "data": {
      "text/plain": [
       "<sklearn.metrics._plot.precision_recall_curve.PrecisionRecallDisplay at 0x7fae18ddcf70>"
      ]
     },
     "execution_count": 649,
     "metadata": {},
     "output_type": "execute_result"
    },
    {
     "data": {
      "image/png": "[encoded data removed]",
      "text/plain": [
       "<Figure size 432x288 with 1 Axes>"
      ]
     },
     "metadata": {
      "needs_background": "light"
     },
     "output_type": "display_data"
    }
   ],
   "source": [
    "plot_precision_recall_curve(clf, X_valid, y_valid)"
   ]
  },
  {
   "cell_type": "markdown",
   "metadata": {},
   "source": [
    "### Learning Curve"
   ]
  },
  {
   "cell_type": "code",
   "execution_count": 650,
   "metadata": {},
   "outputs": [
    {
     "data": {
      "image/png": "[encoded data removed]",
      "text/plain": [
       "<Figure size 432x288 with 1 Axes>"
      ]
     },
     "metadata": {
      "needs_background": "light"
     },
     "output_type": "display_data"
    }
   ],
   "source": [
    "train_sizes, train_scores, validation_scores = learning_curve(clf, X_train, y_train, train_sizes=np.logspace(-1, 0, 20))\n",
    "\n",
    "plt.plot(train_sizes, validation_scores.mean(axis=1), label='validation') \n",
    "plt.plot(train_sizes, train_scores.mean(axis=1), label='training') \n",
    "\n",
    "plt.title(\"Learning curve training sample with score of the model\")\n",
    "plt.xlabel('training size')\n",
    "plt.ylabel('Score')\n",
    "plt.legend()\n",
    "plt.show()\n"
   ]
  },
  {
   "cell_type": "code",
   "execution_count": 651,
   "metadata": {},
   "outputs": [
    {
     "name": "stdout",
     "output_type": "stream",
     "text": [
      "0.7368421052631579\n"
     ]
    }
   ],
   "source": [
    "print(accuracy_score(y_test, pred_clf))"
   ]
  },
  {
   "cell_type": "markdown",
   "metadata": {},
   "source": [
    "### Tuning Hyper Parameters"
   ]
  },
  {
   "cell_type": "code",
   "execution_count": 652,
   "metadata": {},
   "outputs": [
    {
     "data": {
      "image/png": "[encoded data removed]",
      "text/plain": [
       "<Figure size 432x288 with 1 Axes>"
      ]
     },
     "metadata": {
      "needs_background": "light"
     },
     "output_type": "display_data"
    }
   ],
   "source": [
    "C_param_range = [1e-4, 1e-3, 1e-2, 1e-1, 1, 10, 100, 1000]\n",
    "\n",
    "train = []\n",
    "validation = []\n",
    "test = []\n",
    "\n",
    "for i in C_param_range:\n",
    "    # Apply logistic regression model to training data\n",
    "    tempClf = svm.SVC(C = i, random_state = 1)\n",
    "    tempClf.fit(X_train,y_train)\n",
    "    \n",
    "    # Predict using model\n",
    "    y_pred_train = tempClf.predict(X_train)\n",
    "    y_pred_valid = tempClf.predict(X_valid)\n",
    "    y_pred_test = tempClf.predict(X_test)\n",
    "    \n",
    "    # Saving accuracy score in table\n",
    "    train.append(accuracy_score(y_train, y_pred_train))\n",
    "    validation.append(accuracy_score(y_valid, y_pred_valid))\n",
    "    test.append(accuracy_score(y_test, y_pred_test))\n",
    "\n",
    "\n",
    "fig, ax = plt.subplots()\n",
    "fig.canvas.draw()\n",
    "plt.title(\"Lambda tuning with Accuracy of the model\")\n",
    "plt.xlabel(\"Lambda\")\n",
    "plt.ylabel(\"Accuracy of the Model\")\n",
    "plt.xlim(0,8)\n",
    "plt.plot(np.array(train), color='blue', label='Training')\n",
    "plt.plot(np.array(validation), color='green', label='Validation')\n",
    "# plt.plot(np.array(test), color='red', label='Test')\n",
    "plt.legend()\n",
    "ax.set_xticklabels(['10000', '1000', '100', '10', '1', '0.1', '0.01', '0.001'])\n",
    "plt.show()"
   ]
  },
  {
   "cell_type": "code",
   "execution_count": 653,
   "metadata": {},
   "outputs": [
    {
     "name": "stdout",
     "output_type": "stream",
     "text": [
      "Fitting 10 folds for each of 60 candidates, totalling 600 fits\n"
     ]
    }
   ],
   "source": [
    "grid={\"C\":[1e-5, 1e-4, 1e-3, 1e-2, 1e-1, 1, 10, 100, 1000, 10000], 'degree':[1, 2, 3, 4, 5, 6]}\n",
    "\n",
    "new_clf = GridSearchCV(clf, param_grid=grid, cv=10, scoring='accuracy', verbose=True, n_jobs=-1)\n",
    "best_clf = new_clf.fit(X_train, y_train)"
   ]
  },
  {
   "cell_type": "code",
   "execution_count": 654,
   "metadata": {},
   "outputs": [
    {
     "name": "stdout",
     "output_type": "stream",
     "text": [
      "tuned hpyerparameters :(best parameters)  {'C': 1e-05, 'degree': 1}\n",
      "accuracy : 0.6972727272727274\n"
     ]
    }
   ],
   "source": [
    "print(\"tuned hpyerparameters :(best parameters) \",best_clf.best_params_)\n",
    "print(\"accuracy :\",best_clf.best_score_)"
   ]
  },
  {
   "cell_type": "markdown",
   "metadata": {},
   "source": [
    "# 3. Neural Network\n"
   ]
  },
  {
   "cell_type": "code",
   "execution_count": 708,
   "metadata": {},
   "outputs": [],
   "source": [
    "mlpc = MLPClassifier(hidden_layer_sizes=(10, 20, 10), max_iter=1000)\n",
    "mlpc.fit(X_train, y_train)\n",
    "pred_mlpc = mlpc.predict(X_test)"
   ]
  },
  {
   "cell_type": "code",
   "execution_count": 709,
   "metadata": {},
   "outputs": [
    {
     "name": "stdout",
     "output_type": "stream",
     "text": [
      "              precision    recall  f1-score   support\n",
      "\n",
      "           0       0.77      0.71      0.74        14\n",
      "           1       0.33      0.40      0.36         5\n",
      "\n",
      "    accuracy                           0.63        19\n",
      "   macro avg       0.55      0.56      0.55        19\n",
      "weighted avg       0.65      0.63      0.64        19\n",
      "\n",
      "[[10  4]\n",
      " [ 3  2]]\n",
      "0.631578947368421\n"
     ]
    }
   ],
   "source": [
    "# Lets see how well our model performs\n",
    "print(classification_report(y_test, pred_mlpc))\n",
    "print(confusion_matrix(y_test, pred_mlpc))\n",
    "print(accuracy_score(y_test, pred_mlpc))"
   ]
  },
  {
   "cell_type": "markdown",
   "metadata": {},
   "source": [
    "### Confusion Matrix"
   ]
  },
  {
   "cell_type": "code",
   "execution_count": 710,
   "metadata": {},
   "outputs": [
    {
     "name": "stdout",
     "output_type": "stream",
     "text": [
      "<sklearn.metrics._plot.confusion_matrix.ConfusionMatrixDisplay object at 0x7fae29dab3d0>\n"
     ]
    },
    {
     "data": {
      "image/png": "[encoded data removed]",
      "text/plain": [
       "<Figure size 432x288 with 2 Axes>"
      ]
     },
     "metadata": {
      "needs_background": "light"
     },
     "output_type": "display_data"
    }
   ],
   "source": [
    "conf_mat = metrics.plot_confusion_matrix(mlpc, X_test, y_test, cmap='GnBu')\n",
    "print(conf_mat)"
   ]
  },
  {
   "cell_type": "markdown",
   "metadata": {},
   "source": [
    "### ROC AUC Curve"
   ]
  },
  {
   "cell_type": "code",
   "execution_count": 713,
   "metadata": {},
   "outputs": [
    {
     "data": {
      "text/plain": [
       "<sklearn.metrics._plot.roc_curve.RocCurveDisplay at 0x7fae18e0ed60>"
      ]
     },
     "execution_count": 713,
     "metadata": {},
     "output_type": "execute_result"
    },
    {
     "data": {
      "image/png": "[encoded data removed]",
      "text/plain": [
       "<Figure size 432x288 with 1 Axes>"
      ]
     },
     "metadata": {
      "needs_background": "light"
     },
     "output_type": "display_data"
    }
   ],
   "source": [
    "plot_roc_curve(mlpc, X_test, y_test)"
   ]
  },
  {
   "cell_type": "code",
   "execution_count": 714,
   "metadata": {},
   "outputs": [
    {
     "data": {
      "text/plain": [
       "<sklearn.metrics._plot.precision_recall_curve.PrecisionRecallDisplay at 0x7fae08ef2220>"
      ]
     },
     "execution_count": 714,
     "metadata": {},
     "output_type": "execute_result"
    },
    {
     "data": {
      "image/png": "[encoded data removed]",
      "text/plain": [
       "<Figure size 432x288 with 1 Axes>"
      ]
     },
     "metadata": {
      "needs_background": "light"
     },
     "output_type": "display_data"
    }
   ],
   "source": [
    "plot_precision_recall_curve(clf, X_test, y_test)"
   ]
  },
  {
   "cell_type": "markdown",
   "metadata": {},
   "source": [
    "### Learning Curve"
   ]
  },
  {
   "cell_type": "code",
   "execution_count": 716,
   "metadata": {},
   "outputs": [
    {
     "data": {
      "image/png": "[encoded data removed]",
      "text/plain": [
       "<Figure size 432x288 with 1 Axes>"
      ]
     },
     "metadata": {
      "needs_background": "light"
     },
     "output_type": "display_data"
    }
   ],
   "source": [
    "train_sizes, train_scores, validation_scores = learning_curve(mlpc, X_train, y_train)\n",
    "\n",
    "plt.plot(train_sizes, validation_scores.mean(axis=1), label='validation') \n",
    "plt.plot(train_sizes, train_scores.mean(axis=1), label='training') \n",
    "\n",
    "plt.title(\"Learning curve training sample with score of the model\")\n",
    "plt.xlabel('training size')\n",
    "plt.ylabel('Score')\n",
    "plt.legend()\n",
    "plt.show()"
   ]
  },
  {
   "cell_type": "markdown",
   "metadata": {},
   "source": [
    "### Tuning Hyperparameters of Neural Network (MLPClassifier)"
   ]
  },
  {
   "cell_type": "code",
   "execution_count": 696,
   "metadata": {},
   "outputs": [
    {
     "name": "stdout",
     "output_type": "stream",
     "text": [
      "Fitting 5 folds for each of 64 candidates, totalling 320 fits\n"
     ]
    },
    {
     "data": {
      "text/plain": [
       "GridSearchCV(cv=5,\n",
       "             estimator=MLPClassifier(hidden_layer_sizes=(10, 20, 10),\n",
       "                                     max_iter=500),\n",
       "             n_jobs=-1,\n",
       "             param_grid={'activation': ['tanh', 'relu'],\n",
       "                         'alpha': [0.0001, 0.05],\n",
       "                         'hidden_layer_sizes': [(10, 30, 10), (10, 20, 10),\n",
       "                                                (20, 15, 10), (20,)],\n",
       "                         'learning_rate': ['constant', 'adaptive'],\n",
       "                         'solver': ['sgd', 'adam']},\n",
       "             verbose=True)"
      ]
     },
     "execution_count": 696,
     "metadata": {},
     "output_type": "execute_result"
    }
   ],
   "source": [
    "parameter_space = {\n",
    "    'hidden_layer_sizes': [(10,30,10),(10,20,10),(20,15,10),(20,)],\n",
    "    'activation': ['tanh', 'relu'],\n",
    "    'solver': ['sgd', 'adam'],\n",
    "    'alpha': [0.0001, 0.05],\n",
    "    'learning_rate': ['constant','adaptive'],\n",
    "}\n",
    "\n",
    "clf = GridSearchCV(mlpc, parameter_space, n_jobs=-1, cv=5, verbose=True)\n",
    "clf.fit(X_train, y_train) # X is train samples and y is the corresponding labels"
   ]
  },
  {
   "cell_type": "code",
   "execution_count": 697,
   "metadata": {},
   "outputs": [
    {
     "name": "stdout",
     "output_type": "stream",
     "text": [
      "Best parameters found:\n",
      " {'activation': 'tanh', 'alpha': 0.05, 'hidden_layer_sizes': (10, 20, 10), 'learning_rate': 'adaptive', 'solver': 'sgd'}\n"
     ]
    }
   ],
   "source": [
    "print('Best parameters found:\\n', clf.best_params_)"
   ]
  },
  {
   "cell_type": "code",
   "execution_count": 698,
   "metadata": {},
   "outputs": [
    {
     "name": "stdout",
     "output_type": "stream",
     "text": [
      "Results on the test set:\n",
      "              precision    recall  f1-score   support\n",
      "\n",
      "           0       0.72      0.93      0.81        14\n",
      "           1       0.00      0.00      0.00         5\n",
      "\n",
      "    accuracy                           0.68        19\n",
      "   macro avg       0.36      0.46      0.41        19\n",
      "weighted avg       0.53      0.68      0.60        19\n",
      "\n",
      "Accuracy: 0.6842105263157895\n"
     ]
    }
   ],
   "source": [
    "y_true, y_pred = y_test , clf.predict(X_test)\n",
    "from sklearn.metrics import classification_report\n",
    "print('Results on the test set:')\n",
    "print(classification_report(y_true, y_pred))\n",
    "print(\"Accuracy: \" + str(accuracy_score(y_test, y_pred)))"
   ]
  }
 ],
 "metadata": {
  "interpreter": {
   "hash": "38cca0c38332a56087b24af0bc80247f4fced29cb4f7f437d91dc159adec9c4e"
  },
  "kernelspec": {
   "display_name": "Python 3",
   "language": "python",
   "name": "python3"
  },
  "language_info": {
   "codemirror_mode": {
    "name": "ipython",
    "version": 3
   },
   "file_extension": ".py",
   "mimetype": "text/x-python",
   "name": "python",
   "nbconvert_exporter": "python",
   "pygments_lexer": "ipython3",
   "version": "3.8.8"
  }
 },
 "nbformat": 4,
 "nbformat_minor": 2
}
